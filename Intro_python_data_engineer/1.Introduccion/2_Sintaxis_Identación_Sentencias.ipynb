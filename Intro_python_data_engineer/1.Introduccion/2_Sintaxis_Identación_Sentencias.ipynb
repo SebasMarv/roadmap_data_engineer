{
 "cells": [
  {
   "cell_type": "markdown",
   "metadata": {},
   "source": [
    "### Sintaxis\n",
    "\n",
    "En Python, las sintaxis y sentencias son las reglas y estructuras que definen cómo escribir programas en este lenguaje. Aquí hay una lista de algunas de las sentencias y estructuras básicas en Python:\n",
    "<br>\n",
    "\n",
    "* Asignación: `=`\n",
    "* Condicionales: `if`, `elif`, `else`\n",
    "* Bucles: `for`, `while`\n",
    "* Funciones: `def`, `return`\n",
    "* Clases: `class`\n",
    "* Importación de módulos: `import`, `from` ... `import`\n",
    "* Excepciones: `try`, `except`, `finally`, `raise`\n",
    "* Expresiones lambda: `lambda`\n",
    "* Comprehensions: `listas`, `diccionarios`, `conjuntos`, `generadores`\n",
    "* Declaraciones de contexto: `with`\n",
    "* Declaraciones de paso: `pass`\n",
    "* Declaraciones de interrupción de bucle: `break`, `continue`\n",
    "* Declaraciones de eliminación: `del`\n",
    "* Declaraciones de impresión: `print`\n",
    "* Anotaciones de tipo: `->`, `:`\n",
    "\n",
    "<br>\n",
    "\n",
    "| **Sintaxis/Sentencia** | **Descripción**                           | **Ejemplo**                      |\n",
    "|------------------------|-------------------------------------------|----------------------------------|\n",
    "| `print()`              | Imprimir en la consola                    | `print('Hola Mundo')`            |\n",
    "| `if`                   | Condicional                               | `if x > y:`                      |\n",
    "| `else`                 | Alternativa en condicional                | `else:`                          |\n",
    "| `elif`                 | Alternativa adicional en condicional      | `elif x == y:`                   |\n",
    "| `for`                  | Bucle para iterar sobre una secuencia     | `for i in range(5):`             |\n",
    "| `while`                | Bucle mientras una condición es verdadera | `while x < 5:`                   |\n",
    "| `def`                  | Definir una función                       | `def mi_funcion():`              |\n",
    "| `return`               | Devolver un valor desde una función       | `return x + y`                   |\n",
    "| `import`               | Importar un módulo                        | `import math`                    |\n",
    "| `from`                 | Importar una parte específica de un módulo| `from math import pi`            |\n",
    "| `class`                | Definir una clase                         | `class MiClase:`                 |\n",
    "| `try`                  | Manejo de excepciones                     | `try:`                           |\n",
    "| `except`               | Captura de excepciones                    | `except ValueError:`             |\n",
    "| `with`                 | Manejo de contexto                        | `with open('archivo.txt') as f:` |"
   ]
  },
  {
   "cell_type": "code",
   "execution_count": 1,
   "metadata": {},
   "outputs": [
    {
     "name": "stdout",
     "output_type": "stream",
     "text": [
      "-5\n"
     ]
    }
   ],
   "source": [
    "# Tipos de datos basicos en Python\n",
    "number = 5\n",
    "text = 'hello world'\n",
    "pi = 3.1415\n",
    "y = False\n",
    "\n",
    "# Uso de operadores\n",
    "x = 5\n",
    "y = 10\n",
    "z = x + y\n",
    "z = x - y\n",
    "\n",
    "print(z)"
   ]
  },
  {
   "cell_type": "code",
   "execution_count": 7,
   "metadata": {},
   "outputs": [
    {
     "name": "stdout",
     "output_type": "stream",
     "text": [
      "1. Multiplicación y 2. Suma: 23\n",
      "1. Parentesis y 2. Multiplicación: 32\n",
      "1. Parentesis(1) | 2. Parentesis(2) | 3. Multiplicación: 44\n"
     ]
    }
   ],
   "source": [
    "# Orden de operaciones = 1. Parentesis 2. Multiplicacion y division 3. Suma y resta\n",
    "x = 4 * 5 + 3\n",
    "\n",
    "print(f'1. Multiplicación y 2. Suma: {x}')\n",
    "\n",
    "x = 4 * (5 + 3)\n",
    "\n",
    "print(f'1. Parentesis y 2. Multiplicación: {x}')\n",
    "\n",
    "x = 4 * (5 + (3*2))\n",
    "\n",
    "print(f'1. Parentesis(1) | 2. Parentesis(2) | 3. Multiplicación: {x}')"
   ]
  },
  {
   "cell_type": "code",
   "execution_count": 12,
   "metadata": {},
   "outputs": [
    {
     "name": "stdout",
     "output_type": "stream",
     "text": [
      "División normal: 3.3333333333333335\n",
      "División entera: 3\n",
      "Potencia: 8\n"
     ]
    }
   ],
   "source": [
    "# Division entere (//)\n",
    "\n",
    "x = 10 / 3\n",
    "print(f'División normal: {x}')\n",
    "\n",
    "x = 10 // 3\n",
    "print(f'División entera: {x}')\n",
    "\n",
    "# Potencia (**)\n",
    "\n",
    "x = 2 ** 3\n",
    "print(f'Potencia: {x}')"
   ]
  },
  {
   "cell_type": "markdown",
   "metadata": {},
   "source": [
    "### Sentencia: If\n",
    "* Condiciónal en python que permite validar valores buleanos."
   ]
  },
  {
   "cell_type": "code",
   "execution_count": 16,
   "metadata": {},
   "outputs": [
    {
     "name": "stdout",
     "output_type": "stream",
     "text": [
      "2.5\n"
     ]
    }
   ],
   "source": [
    "x = 5\n",
    "\n",
    "if x > 10:\n",
    "    x = x * 2 # True\n",
    "else:\n",
    "    x = x/2 # False\n",
    "\n",
    "print(x)"
   ]
  },
  {
   "cell_type": "code",
   "execution_count": null,
   "metadata": {},
   "outputs": [],
   "source": [
    "# Estoy jugando a los dados y dejare de jugar cuando mi dado sea 3\n",
    "\n",
    "dado = 5\n",
    "\n",
    "if dado != 3:\n",
    "    print('Sigue el juego') # True\n",
    "else:\n",
    "    print(f'Fin del juego: {dado}')\n",
    "\n",
    "\n",
    "# num_games = 10\n",
    "\n",
    "# for n in range(num_games):\n",
    "#     dado = input('Tira el dado: ')\n",
    "#     if dado != 3:\n",
    "#         print('Sigue el juego')\n",
    "#     else:\n",
    "#         print(f'Fin del juego: {dado}')"
   ]
  },
  {
   "cell_type": "code",
   "execution_count": null,
   "metadata": {},
   "outputs": [
    {
     "name": "stdout",
     "output_type": "stream",
     "text": [
      "igual\n"
     ]
    }
   ],
   "source": [
    "# Posible error\n",
    "\n",
    "x = 4\n",
    "\n",
    "if x>4: # Quedo faltante el = en la comparación # Si\n",
    "    print('True')\n",
    "elif x<4: # Caso contrario si\n",
    "    print('False')\n",
    "else: # Caso contrario\n",
    "    print('igual')\n",
    "\n",
    "\n"
   ]
  }
 ],
 "metadata": {
  "kernelspec": {
   "display_name": "Python 3",
   "language": "python",
   "name": "python3"
  },
  "language_info": {
   "codemirror_mode": {
    "name": "ipython",
    "version": 3
   },
   "file_extension": ".py",
   "mimetype": "text/x-python",
   "name": "python",
   "nbconvert_exporter": "python",
   "pygments_lexer": "ipython3",
   "version": "3.11.5"
  }
 },
 "nbformat": 4,
 "nbformat_minor": 2
}
