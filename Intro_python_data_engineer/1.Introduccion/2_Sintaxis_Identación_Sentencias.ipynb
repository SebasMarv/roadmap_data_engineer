{
 "cells": [
  {
   "cell_type": "markdown",
   "metadata": {},
   "source": [
    "### Sintaxis\n",
    "\n",
    "En Python, las sintaxis y sentencias son las reglas y estructuras que definen cómo escribir programas en este lenguaje. Aquí hay una lista de algunas de las sentencias y estructuras básicas en Python:\n",
    "<br>\n",
    "\n",
    "* Asignación: `=`\n",
    "* Condicionales: `if`, `elif`, `else`\n",
    "* Bucles: `for`, `while`\n",
    "* Funciones: `def`, `return`\n",
    "* Clases: `class`\n",
    "* Importación de módulos: `import`, `from` ... `import`\n",
    "* Excepciones: `try`, `except`, `finally`, `raise`\n",
    "* Expresiones lambda: `lambda`\n",
    "* Comprehensions: `listas`, `diccionarios`, `conjuntos`, `generadores`\n",
    "* Declaraciones de contexto: `with`\n",
    "* Declaraciones de paso: `pass`\n",
    "* Declaraciones de interrupción de bucle: `break`, `continue`\n",
    "* Declaraciones de eliminación: `del`\n",
    "* Declaraciones de impresión: `print`\n",
    "* Anotaciones de tipo: `->`, `:`\n",
    "\n",
    "<br>\n",
    "\n",
    "| **Sintaxis/Sentencia** | **Descripción**                           | **Ejemplo**                      |\n",
    "|------------------------|-------------------------------------------|----------------------------------|\n",
    "| `print()`              | Imprimir en la consola                    | `print('Hola Mundo')`            |\n",
    "| `if`                   | Condicional                               | `if x > y:`                      |\n",
    "| `else`                 | Alternativa en condicional                | `else:`                          |\n",
    "| `elif`                 | Alternativa adicional en condicional      | `elif x == y:`                   |\n",
    "| `for`                  | Bucle para iterar sobre una secuencia     | `for i in range(5):`             |\n",
    "| `while`                | Bucle mientras una condición es verdadera | `while x < 5:`                   |\n",
    "| `def`                  | Definir una función                       | `def mi_funcion():`              |\n",
    "| `return`               | Devolver un valor desde una función       | `return x + y`                   |\n",
    "| `import`               | Importar un módulo                        | `import math`                    |\n",
    "| `from`                 | Importar una parte específica de un módulo| `from math import pi`            |\n",
    "| `class`                | Definir una clase                         | `class MiClase:`                 |\n",
    "| `try`                  | Manejo de excepciones                     | `try:`                           |\n",
    "| `except`               | Captura de excepciones                    | `except ValueError:`             |\n",
    "| `with`                 | Manejo de contexto                        | `with open('archivo.txt') as f:` |"
   ]
  },
  {
   "cell_type": "code",
   "execution_count": 1,
   "metadata": {},
   "outputs": [
    {
     "name": "stdout",
     "output_type": "stream",
     "text": [
      "-5\n"
     ]
    }
   ],
   "source": [
    "# Tipos de datos basicos en Python\n",
    "number = 5\n",
    "text = 'hello world'\n",
    "pi = 3.1415\n",
    "y = False\n",
    "\n",
    "# Uso de operadores\n",
    "x = 5\n",
    "y = 10\n",
    "z = x + y\n",
    "z = x - y\n",
    "\n",
    "print(z)"
   ]
  },
  {
   "cell_type": "code",
   "execution_count": 7,
   "metadata": {},
   "outputs": [
    {
     "name": "stdout",
     "output_type": "stream",
     "text": [
      "1. Multiplicación y 2. Suma: 23\n",
      "1. Parentesis y 2. Multiplicación: 32\n",
      "1. Parentesis(1) | 2. Parentesis(2) | 3. Multiplicación: 44\n"
     ]
    }
   ],
   "source": [
    "# Orden de operaciones = 1. Parentesis 2. Multiplicacion y division 3. Suma y resta\n",
    "x = 4 * 5 + 3\n",
    "\n",
    "print(f'1. Multiplicación y 2. Suma: {x}')\n",
    "\n",
    "x = 4 * (5 + 3)\n",
    "\n",
    "print(f'1. Parentesis y 2. Multiplicación: {x}')\n",
    "\n",
    "x = 4 * (5 + (3*2))\n",
    "\n",
    "print(f'1. Parentesis(1) | 2. Parentesis(2) | 3. Multiplicación: {x}')"
   ]
  },
  {
   "cell_type": "code",
   "execution_count": 12,
   "metadata": {},
   "outputs": [
    {
     "name": "stdout",
     "output_type": "stream",
     "text": [
      "División normal: 3.3333333333333335\n",
      "División entera: 3\n",
      "Potencia: 8\n"
     ]
    }
   ],
   "source": [
    "# Division entere (//)\n",
    "\n",
    "x = 10 / 3\n",
    "print(f'División normal: {x}')\n",
    "\n",
    "x = 10 // 3\n",
    "print(f'División entera: {x}')\n",
    "\n",
    "# Potencia (**)\n",
    "\n",
    "x = 2 ** 3\n",
    "print(f'Potencia: {x}')"
   ]
  },
  {
   "cell_type": "markdown",
   "metadata": {},
   "source": [
    "### Sentencia: If\n",
    "* Condiciónal en python que permite validar valores buleanos."
   ]
  },
  {
   "cell_type": "code",
   "execution_count": 16,
   "metadata": {},
   "outputs": [
    {
     "name": "stdout",
     "output_type": "stream",
     "text": [
      "2.5\n"
     ]
    }
   ],
   "source": [
    "x = 5\n",
    "\n",
    "if x > 10:\n",
    "    x = x * 2 # True\n",
    "else:\n",
    "    x = x/2 # False\n",
    "\n",
    "print(x)"
   ]
  },
  {
   "cell_type": "code",
   "execution_count": null,
   "metadata": {},
   "outputs": [],
   "source": [
    "# Estoy jugando a los dados y dejare de jugar cuando mi dado sea 3\n",
    "\n",
    "dado = 5\n",
    "\n",
    "if dado != 3:\n",
    "    print('Sigue el juego') # True\n",
    "else:\n",
    "    print(f'Fin del juego: {dado}')\n",
    "\n",
    "\n",
    "# num_games = 10\n",
    "\n",
    "# for n in range(num_games):\n",
    "#     dado = input('Tira el dado: ')\n",
    "#     if dado != 3:\n",
    "#         print('Sigue el juego')\n",
    "#     else:\n",
    "#         print(f'Fin del juego: {dado}')"
   ]
  },
  {
   "cell_type": "code",
   "execution_count": 3,
   "metadata": {},
   "outputs": [
    {
     "name": "stdout",
     "output_type": "stream",
     "text": [
      "igual\n"
     ]
    }
   ],
   "source": [
    "# Posible error\n",
    "\n",
    "x = 4\n",
    "\n",
    "if x>4: # Quedo faltante el = en la comparación # Si\n",
    "    print('True')\n",
    "elif x<4: # Caso contrario si\n",
    "    print('False')\n",
    "else: # Caso contrario\n",
    "    print('igual')\n",
    "\n",
    "\n"
   ]
  },
  {
   "cell_type": "markdown",
   "metadata": {},
   "source": [
    "**Ejercicio 1**: Imprimir un Mensaje\n",
    "Escribe un programa que imprima \"¡Hola, mundo!\" en la pantalla."
   ]
  },
  {
   "cell_type": "code",
   "execution_count": 5,
   "metadata": {},
   "outputs": [
    {
     "name": "stdout",
     "output_type": "stream",
     "text": [
      "¡Hola mundo!\n"
     ]
    }
   ],
   "source": [
    "print('¡Hola mundo!')"
   ]
  },
  {
   "cell_type": "markdown",
   "metadata": {},
   "source": [
    "**Ejercicio 2**: Suma de Dos Números\n",
    "Escribe un programa que tome dos números como entrada del usuario y muestre la suma de esos dos números."
   ]
  },
  {
   "cell_type": "code",
   "execution_count": 1,
   "metadata": {},
   "outputs": [
    {
     "name": "stdout",
     "output_type": "stream",
     "text": [
      "Ingrese el numero #1\n",
      "Ingrese el numero #2\n",
      "La suma de los numeros es: 8\n"
     ]
    }
   ],
   "source": [
    "print('Ingrese el numero #1')\n",
    "# x = input(x)\n",
    "x = 3\n",
    "\n",
    "print('Ingrese el numero #2')\n",
    "# y = input(y)\n",
    "y = 5\n",
    "\n",
    "suma = x + y\n",
    "print(f'La suma de los numeros es: {suma}')"
   ]
  },
  {
   "cell_type": "markdown",
   "metadata": {},
   "source": [
    "\n",
    "**Ejercicio 3**: Verificar si un Número es Par o Impar\n",
    "Escribe un programa que tome un número como entrada del usuario y determine si el número es par o impar."
   ]
  },
  {
   "cell_type": "code",
   "execution_count": 5,
   "metadata": {},
   "outputs": [
    {
     "name": "stdout",
     "output_type": "stream",
     "text": [
      "Ingrese un numero: \n",
      "\n",
      "El numero 3 es impar\n"
     ]
    }
   ],
   "source": [
    "print('Ingrese un numero: \\n')\n",
    "# x = input(x)\n",
    "x = 3\n",
    "\n",
    "if x % 2 == 0:\n",
    "    print(f'El numero {x} es par')\n",
    "elif x % 2 != 0:\n",
    "    print(f'El numero {x} es impar')\n",
    "else:\n",
    "    print(f'El numero {x} no es par ni impar')"
   ]
  },
  {
   "cell_type": "markdown",
   "metadata": {},
   "source": [
    "**Ejercicio 4**: Calcular el Área de un Círculo\n",
    "Escribe un programa que tome el radio de un círculo como entrada del usuario y calcule el área del círculo. Usa la fórmula: área = π * radio^2."
   ]
  },
  {
   "cell_type": "code",
   "execution_count": 6,
   "metadata": {},
   "outputs": [
    {
     "name": "stdout",
     "output_type": "stream",
     "text": [
      "Ingrese el radio de un circulo: \n",
      "\n",
      "El area del circulo es: 28.274333882308138\n"
     ]
    }
   ],
   "source": [
    "import math as m\n",
    "\n",
    "print('Ingrese el radio de un circulo: \\n')\n",
    "x = 3\n",
    "\n",
    "# area = m.pi * (x**2)\n",
    "area = m.pi * m.pow(x, 2) # Con la libreria math se puede usar pow para elevar un numero a una potencia\n",
    "print(f'El area del circulo es: {area}')"
   ]
  },
  {
   "cell_type": "markdown",
   "metadata": {},
   "source": [
    "**Ejercicio 5**: Conversión de Temperatura\n",
    "Escribe un programa que convierta una temperatura dada en grados Celsius a grados Fahrenheit. Usa la fórmula: Fahrenheit = Celsius * 9/5 + 32."
   ]
  },
  {
   "cell_type": "code",
   "execution_count": 7,
   "metadata": {},
   "outputs": [
    {
     "name": "stdout",
     "output_type": "stream",
     "text": [
      "Ingrese la temperatura en grados Celsius: \n",
      "\n",
      "La temperatura en grados Fahrenheit es: 86.0\n"
     ]
    }
   ],
   "source": [
    "print('Ingrese la temperatura en grados Celsius: \\n')\n",
    "\n",
    "celsius = 30\n",
    "\n",
    "fahrenheit = (celsius * 9/5) + 32\n",
    "print(f'La temperatura en grados Fahrenheit es: {fahrenheit}')"
   ]
  },
  {
   "cell_type": "markdown",
   "metadata": {},
   "source": [
    "**Ejercicio 6**: Contar Vocales en una Cadena\n",
    "Escribe un programa que tome una cadena de texto como entrada del usuario y cuente el número de vocales (a, e, i, o, u) en la cadena."
   ]
  },
  {
   "cell_type": "code",
   "execution_count": 9,
   "metadata": {},
   "outputs": [
    {
     "name": "stdout",
     "output_type": "stream",
     "text": [
      "Ingrese una cadena de texto: \n",
      "\n",
      "La cantidad de vocales en la cadena de texto es: 9\n"
     ]
    }
   ],
   "source": [
    "print('Ingrese una cadena de texto: \\n')\n",
    "\n",
    "cadena = 'Hola que tal, como estas?'\n",
    "\n",
    "x = 0\n",
    "\n",
    "for i in cadena:\n",
    "    if i == 'a' or i == 'e' or i == 'i' or i == 'o' or i == 'u':\n",
    "        x += 1\n",
    "    else:\n",
    "        pass\n",
    "\n",
    "print(f'La cantidad de vocales en la cadena de texto es: {x}')"
   ]
  },
  {
   "cell_type": "markdown",
   "metadata": {},
   "source": [
    "**Ejercicio 7**: Calcular el Factorial de un Número\n",
    "Escribe un programa que tome un número como entrada del usuario y calcule el factorial de ese número."
   ]
  },
  {
   "cell_type": "code",
   "execution_count": 11,
   "metadata": {},
   "outputs": [
    {
     "name": "stdout",
     "output_type": "stream",
     "text": [
      "Ingrese un numero: \n",
      "\n",
      "El factorial del numero 3 es: 6\n"
     ]
    }
   ],
   "source": [
    "print('Ingrese un numero: \\n')\n",
    "\n",
    "x = 3\n",
    "\n",
    "factorial = m.factorial(x)\n",
    "print(f'El factorial del numero {x} es: {factorial}')"
   ]
  },
  {
   "cell_type": "markdown",
   "metadata": {},
   "source": [
    "**Ejercicio 8**: Invertir una Cadena\n",
    "Escribe un programa que tome una cadena de texto como entrada del usuario y devuelva la cadena invertida."
   ]
  },
  {
   "cell_type": "code",
   "execution_count": 12,
   "metadata": {},
   "outputs": [
    {
     "name": "stdout",
     "output_type": "stream",
     "text": [
      "Ingrese una cadena de texto para invertirlo: \n",
      "\n",
      "La cadena invertida es: ?satse omoc ,lat euq aloH\n"
     ]
    }
   ],
   "source": [
    "print('Ingrese una cadena de texto para invertirlo: \\n')\n",
    "\n",
    "cadena = 'Hola que tal, como estas?'\n",
    "\n",
    "cadena_invertida = cadena[::-1]\n",
    "print(f'La cadena invertida es: {cadena_invertida}')"
   ]
  },
  {
   "cell_type": "markdown",
   "metadata": {},
   "source": [
    "**Ejercicio 9**: Contar Palabras en una Cadena\n",
    "Escribe un programa que tome una cadena de texto como entrada del usuario y cuente el número de palabras en la cadena."
   ]
  },
  {
   "cell_type": "code",
   "execution_count": 13,
   "metadata": {},
   "outputs": [
    {
     "name": "stdout",
     "output_type": "stream",
     "text": [
      "Ingrese una cadena de texto: \n",
      "\n",
      "La cantidad de palabras en la cadena de texto es: 7\n"
     ]
    }
   ],
   "source": [
    "print('Ingrese una cadena de texto: \\n')\n",
    "\n",
    "cadena = 'Hola que tal, como estas? Todo bien?'\n",
    "\n",
    "x = 0\n",
    "\n",
    "for i in cadena:\n",
    "    if i == ' ': # Si encuentra un espacio en blanco\n",
    "        x += 1\n",
    "    else:\n",
    "        pass\n",
    "\n",
    "print(f'La cantidad de palabras en la cadena de texto es: {x + 1}')"
   ]
  }
 ],
 "metadata": {
  "kernelspec": {
   "display_name": "Python 3",
   "language": "python",
   "name": "python3"
  },
  "language_info": {
   "codemirror_mode": {
    "name": "ipython",
    "version": 3
   },
   "file_extension": ".py",
   "mimetype": "text/x-python",
   "name": "python",
   "nbconvert_exporter": "python",
   "pygments_lexer": "ipython3",
   "version": "3.11.5"
  }
 },
 "nbformat": 4,
 "nbformat_minor": 2
}
