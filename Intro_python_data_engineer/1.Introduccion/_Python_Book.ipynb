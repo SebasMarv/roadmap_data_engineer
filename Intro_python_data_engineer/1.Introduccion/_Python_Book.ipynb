{
 "cells": [
  {
   "cell_type": "markdown",
   "metadata": {},
   "source": [
    "### 01. Introducción\n",
    "* Hola mundo!\n",
    "* Sintaxis Básicas\n",
    "* Nombramiento de variables\n",
    "* Palabras reservadas\n"
   ]
  }
 ],
 "metadata": {
  "language_info": {
   "name": "python"
  }
 },
 "nbformat": 4,
 "nbformat_minor": 2
}
