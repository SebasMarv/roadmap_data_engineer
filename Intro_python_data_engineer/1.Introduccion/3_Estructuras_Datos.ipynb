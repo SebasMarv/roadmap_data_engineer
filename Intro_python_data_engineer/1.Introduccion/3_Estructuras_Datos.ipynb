{
 "cells": [
  {
   "cell_type": "markdown",
   "metadata": {},
   "source": [
    "# Estructuras de datos\n",
    "\n",
    "Las estructuras de datos son una forma de organizar y almacenar datos de manera que puedan ser utilizados de manera eficiente. Son fundamentales en la programación y en la informática en general, ya que permiten manejar grandes cantidades de datos de manera efectiva.\n",
    "\n",
    "## Tipos de Estructuras de Datos\n",
    "\n",
    "| Tipo de Estructura | Descripción | Ejemplo |\n",
    "|--------------------|-------------|---------|\n",
    "| **Array (Arreglo)** | Colección de elementos, todos del mismo tipo, almacenados en ubicaciones de memoria contiguas. | `[1, 2, 3, 4, 5]` |\n",
    "| **Linked List (Lista Enlazada)** | Colección de elementos llamados nodos, donde cada nodo contiene un valor y una referencia al siguiente nodo en la secuencia. | `1 -> 2 -> 3 -> 4 -> 5` |\n",
    "| **Stack (Pila)** | Colección de elementos que sigue el principio LIFO (Last In, First Out). | `push(1), push(2), pop() -> 2` |\n",
    "| **Queue (Cola)** | Colección de elementos que sigue el principio FIFO (First In, First Out). | `enqueue(1), enqueue(2), dequeue() -> 1` |\n",
    "| **Tree (Árbol)** | Estructura jerárquica que consiste en nodos, con un nodo raíz y subnodos hijos, formando una estructura en forma de árbol. | `root(1) -> left(2), right(3)` |\n",
    "| **Graph (Grafo)** | Conjunto de nodos (o vértices) conectados por aristas (o arcos), que pueden ser dirigidas o no dirigidas. | `A -- B, A -- C, B -- C` |\n",
    "| **Hash Table (Tabla Hash)** | Estructura que asocia claves con valores mediante una función hash, permitiendo búsquedas rápidas. | `{'key1': 'value1', 'key2': 'value2'}` |\n",
    "\n",
    "Estas estructuras de datos son esenciales para resolver problemas complejos de manera eficiente y son ampliamente utilizadas en algoritmos y aplicaciones de software.\n",
    "\n",
    "## Tipos de Colecciones en Python\n",
    "\n",
    "| Tipo de Colección | Descripción | Ejemplo |\n",
    "|-------------------|-------------|---------|\n",
    "| **List (Lista)** | Colección ordenada y mutable de elementos, que permite duplicados. | `[1, 2, 3, 4, 5]` |\n",
    "| **Tuple (Tupla)** | Colección ordenada e inmutable de elementos, que permite duplicados. | `(1, 2, 3, 4, 5)` |\n",
    "| **Set (Conjunto)** | Colección desordenada de elementos únicos. | `{1, 2, 3, 4, 5}` |\n",
    "| **Dictionary (Diccionario)** | Colección desordenada de pares clave-valor, donde las claves son únicas. | `{'key1': 'value1', 'key2': 'value2'}` |"
   ]
  }
 ],
 "metadata": {
  "kernelspec": {
   "display_name": "Python 3",
   "language": "python",
   "name": "python3"
  },
  "language_info": {
   "codemirror_mode": {
    "name": "ipython",
    "version": 3
   },
   "file_extension": ".py",
   "mimetype": "text/x-python",
   "name": "python",
   "nbconvert_exporter": "python",
   "pygments_lexer": "ipython3",
   "version": "3.11.5"
  }
 },
 "nbformat": 4,
 "nbformat_minor": 2
}
