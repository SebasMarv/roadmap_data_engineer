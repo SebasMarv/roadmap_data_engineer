{
 "cells": [
  {
   "cell_type": "markdown",
   "metadata": {},
   "source": [
    "### Tipologia de Datos\n",
    "\n",
    "* Por defecto, Python maneja los siguientes tipos de datos:"
   ]
  },
  {
   "cell_type": "markdown",
   "metadata": {},
   "source": [
    "| Categoría  | Tipo        | Descripción                                                                                       |\n",
    "|------------|-------------|---------------------------------------------------------------------------------------------------|\n",
    "| Texto      | str         | Para cadenas de texto                                                                             |\n",
    "| Numérico   | int         | Para números enteros. Estos se pueden representan también en forma octal, hexadecimal o binaria.  |\n",
    "|            | float       | Para números reales. Se almacenan como fracciones de base 2.                                      |\n",
    "|            | complex     | Para números complejos. Se puede acceder a la parte real e imaginaria mediante los atributos real e imag. |\n",
    "| Secuencia  | list        | Para listas                                                                                       |\n",
    "|            | tuple       | Para tuplas                                                                                       |\n",
    "|            | range       | Para secuencias inmutables de número enteros en un iterable                                       |\n",
    "| Mapa       | dict        | Para diccionarios                                                                                 |\n",
    "| Conjunto   | set, frozenset | Para conjuntos en los cuales cada elementos es único.                                          |\n",
    "| Booleano   | bool        | Para el resultado de la evaluación de una expresión que puede ser verdadera o falsa               |\n",
    "| Binario    | bytes       | Para secuencias inmutables de bytes                                                               |\n",
    "|            | bytearray   | Para secuencias mutables de bytes                                                                 |\n",
    "|            | memoryview  | Proporciona una vista de memoria de un objeto mutable sin realizar copia de los datos originales.  |\n",
    "| Nulo       | NoneType    | Representa la ausencia de un valor                                                                |\n",
    "```"
   ]
  },
  {
   "cell_type": "code",
   "execution_count": null,
   "metadata": {},
   "outputs": [
    {
     "name": "stdout",
     "output_type": "stream",
     "text": [
      "24\n",
      "<class 'int'>\n"
     ]
    }
   ],
   "source": [
    "# Creamos una variable que le asignaremos un numero\n",
    "x = 24\n",
    "print(x)\n",
    "print(type(x)) # type nos brinda el tipo de dato de la variable"
   ]
  },
  {
   "cell_type": "code",
   "execution_count": null,
   "metadata": {},
   "outputs": [
    {
     "name": "stdout",
     "output_type": "stream",
     "text": [
      "23\n",
      "<class 'int'>\n"
     ]
    }
   ],
   "source": [
    "numero = \"hola mundo\"\n",
    "numero = 23 # Las variables tambien pueden cambiar de tipo de datos alamacenado\n",
    "print(numero)\n",
    "print(type(numero))"
   ]
  },
  {
   "cell_type": "code",
   "execution_count": null,
   "metadata": {},
   "outputs": [],
   "source": [
    "# Utilidadad de 3 apostrofes\n",
    "\n",
    "'''\n",
    "Solo para textos grandes o seccionados por varias\n",
    "lineas en el codigo.\n",
    "'''\n",
    "\n",
    "# Utilidad de numeral\n",
    "\n",
    "# Solo para una sola linea de comentarios."
   ]
  },
  {
   "cell_type": "markdown",
   "metadata": {},
   "source": [
    "# Operadores\n",
    "\n",
    "| Tipo         | Operador                          | Nombre                          | Descripción                                                                 | Ejemplo             |\n",
    "|--------------|-----------------------------------|---------------------------------|-----------------------------------------------------------------------------|---------------------|\n",
    "| Aritmético   | +, -, *, /                        |                                 |                                                                             |                     |\n",
    "|              | %                                 | Módulo                          | Residuo de una división                                                     | 15%2 equivale a 1   |\n",
    "|              | //                                | División exacta                 |                                                                             | 15//2 equivale a 7  |\n",
    "|              | **                                | Potenciación                    |                                                                             |                     |\n",
    "| Asignación   | =                                 |                                 | Asigna un valor a una variable                                              | X=5                 |\n",
    "|              | +=, -=, *=, /=, %=, **=, //=      |                                 | Asigna a una variable su valor actual sumado/restado/.../ en/por/entre/.../ | X+=5 significa X=X+5|\n",
    "| Bitwise      | &, |, ^, ~, <<, >>                | AND, OR, XOR, NOT y desplazamientos bit a bit | Realizan operaciones bit a bit utilizando la representación binaria de los valores |                     |\n",
    "| Comparación  | ==                                | Igual                           |                                                                             |                     |\n",
    "|              | !=                                | Diferente                       |                                                                             |                     |\n",
    "|              | >, <                              | Mayor que, menor que            |                                                                             |                     |\n",
    "|              | >=, <=                            | Mayor o igual que, menor o igual que |                                                                         |                     |\n",
    "| Lógicos      | and, or, not                      |                                 |                                                                             |                     |\n",
    "| Identidad    | is, is not                        |                                 | Compara dos objetos, en referencia a su posición en memoria                 |                     |\n",
    "| Pertenencia  | in, not in                        |                                 | Verifica si una secuencia está presente en un objeto                        |                     |\n"
   ]
  },
  {
   "cell_type": "code",
   "execution_count": 11,
   "metadata": {},
   "outputs": [
    {
     "name": "stdout",
     "output_type": "stream",
     "text": [
      "False\n",
      "True\n"
     ]
    }
   ],
   "source": [
    "# Comparacion de variables\n",
    "print(12 == 13)\n",
    "print(12 != 13)"
   ]
  },
  {
   "cell_type": "code",
   "execution_count": 14,
   "metadata": {},
   "outputs": [
    {
     "name": "stdout",
     "output_type": "stream",
     "text": [
      "100\n",
      "20\n",
      "True\n",
      "El resultado de la suma de 10 + 10 es: 20\n"
     ]
    }
   ],
   "source": [
    "num1 = 10\n",
    "num2 = 10\n",
    "num3 = 12\n",
    "print(num1 * num2)\n",
    "print(num1 + num2)\n",
    "print(num1 == num2)\n",
    "\n",
    "# Imprimir con textos y variables\n",
    "print(f\"El resultado de la suma de {num1} + {num2} es: {num1 + num2}\")"
   ]
  }
 ],
 "metadata": {
  "kernelspec": {
   "display_name": "Python 3",
   "language": "python",
   "name": "python3"
  },
  "language_info": {
   "codemirror_mode": {
    "name": "ipython",
    "version": 3
   },
   "file_extension": ".py",
   "mimetype": "text/x-python",
   "name": "python",
   "nbconvert_exporter": "python",
   "pygments_lexer": "ipython3",
   "version": "3.11.5"
  }
 },
 "nbformat": 4,
 "nbformat_minor": 2
}
