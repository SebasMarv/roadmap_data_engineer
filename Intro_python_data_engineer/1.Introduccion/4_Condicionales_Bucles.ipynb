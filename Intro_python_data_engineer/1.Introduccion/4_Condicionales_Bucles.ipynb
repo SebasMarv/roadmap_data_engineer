{
 "cells": [
  {
   "cell_type": "markdown",
   "metadata": {},
   "source": [
    "# Bucles o Loops"
   ]
  },
  {
   "cell_type": "markdown",
   "metadata": {},
   "source": [
    "### El iterador while\n",
    "El bucle `while` en Python se utiliza para ejecutar repetidamente un bloque de código siempre que una condición sea verdadera. Es útil cuando no se sabe de antemano cuántas veces se debe ejecutar el bucle.\n",
    "\n",
    "#### Ejemplo simple\n",
    "```python\n",
    "# Contar de 1 a 5\n",
    "contador = 1\n",
    "while contador <= 5:\n",
    "    print(contador)\n",
    "    contador += 1\n",
    "```\n",
    "\n",
    "#### Casos de uso\n",
    "1. **Contar hasta un número específico**:\n",
    "    ```python\n",
    "    n = 10\n",
    "    i = 1\n",
    "    while i <= n:\n",
    "        print(i)\n",
    "        i += 1\n",
    "    ```\n",
    "\n",
    "2. **Esperar una condición específica**:\n",
    "    ```python\n",
    "    import random\n",
    "    numero = 0\n",
    "    while numero != 5:\n",
    "        numero = random.randint(1, 10)\n",
    "        print(numero)\n",
    "    ```\n",
    "\n",
    "3. **Leer entradas del usuario hasta que se cumpla una condición**:\n",
    "    ```python\n",
    "    entrada = \"\"\n",
    "    while entrada.lower() != \"salir\":\n",
    "        entrada = input(\"Escribe 'salir' para terminar: \")\n",
    "    ```\n",
    "\n",
    "4. **Iterar hasta que una lista esté vacía**:\n",
    "    ```python\n",
    "    lista = [1, 2, 3, 4, 5]\n",
    "    while lista:\n",
    "        print(lista.pop())\n",
    "    ```\n",
    "\n",
    "#### Posibilidades de uso en una tabla\n",
    "\n",
    "| Caso de Uso                          | Código de Ejemplo                                                                 |\n",
    "|--------------------------------------|-----------------------------------------------------------------------------------|\n",
    "| Contar hasta un número específico    | ```python n = 5; i = 1; while i <= n: print(i); i += 1 ```                        |\n",
    "| Esperar una condición específica     | ```python import random; numero = 0; while numero != 5: numero = random.randint(1, 10); print(numero) ``` |\n",
    "| Leer entradas del usuario            | ```python entrada = \"\"; while entrada.lower() != \"salir\": entrada = input(\"Escribe 'salir' para terminar: \") ``` |\n",
    "| Iterar hasta que una lista esté vacía| ```python lista = [1, 2, 3]; while lista: print(lista.pop()) ```                  |"
   ]
  },
  {
   "cell_type": "code",
   "execution_count": 7,
   "metadata": {},
   "outputs": [
    {
     "name": "stdout",
     "output_type": "stream",
     "text": [
      "0\n",
      "2\n",
      "4\n",
      "6\n",
      "8\n"
     ]
    }
   ],
   "source": [
    "contador = 0\n",
    "\n",
    "while contador <10: # El bucle seguira siempre y cuando la condicion sea verdadera (True)\n",
    "    print(contador)\n",
    "    contador += 2\n",
    "\n",
    "# Normalmente utilizamos while cuando no sabemos el numero de iteraciones que vamos a realizar\n"
   ]
  },
  {
   "cell_type": "code",
   "execution_count": null,
   "metadata": {},
   "outputs": [],
   "source": [
    "\n",
    "\n"
   ]
  },
  {
   "cell_type": "markdown",
   "metadata": {},
   "source": [
    "***"
   ]
  },
  {
   "cell_type": "markdown",
   "metadata": {},
   "source": [
    "### El Iterador For\n",
    "El bucle `for` en Python se utiliza para iterar sobre una secuencia (como una lista, tupla, diccionario, conjunto o cadena). Es una forma eficiente de recorrer elementos de una colección.\n",
    "\n",
    "#### Ejemplo simple\n",
    "```python\n",
    "# Iterar sobre una lista\n",
    "numeros = [1, 2, 3, 4, 5]\n",
    "for numero in numeros:\n",
    "    print(numero)\n",
    "```\n",
    "\n",
    "#### Casos de uso\n",
    "1. **Iterar sobre una lista de números**:\n",
    "    ```python\n",
    "    for i in range(10):\n",
    "        print(i)\n",
    "    ```\n",
    "\n",
    "2. **Iterar sobre una cadena de texto**:\n",
    "    ```python\n",
    "    for letra in \"Hola\":\n",
    "        print(letra)\n",
    "    ```\n",
    "\n",
    "3. **Iterar sobre un diccionario**:\n",
    "    ```python\n",
    "    diccionario = {'a': 1, 'b': 2, 'c': 3}\n",
    "    for clave, valor in diccionario.items():\n",
    "        print(f\"Clave: {clave}, Valor: {valor}\")\n",
    "    ```\n",
    "\n",
    "4. **Iterar sobre una lista de listas (matriz)**:\n",
    "    ```python\n",
    "    matriz = [[1, 2, 3], [4, 5, 6], [7, 8, 9]]\n",
    "    for fila in matriz:\n",
    "        for elemento in fila:\n",
    "            print(elemento)\n",
    "    ```\n",
    "\n",
    "#### Posibilidades de uso en una tabla\n",
    "\n",
    "| Caso de Uso                | Código de Ejemplo                                                                 |\n",
    "|----------------------------|-----------------------------------------------------------------------------------|\n",
    "| Iterar sobre una lista     | ```python for numero in [1, 2, 3]: print(numero) ```                               |\n",
    "| Iterar sobre un rango      | ```python for i in range(5): print(i) ```                                          |\n",
    "| Iterar sobre una cadena    | ```python for letra in \"Python\": print(letra) ```                                  |\n",
    "| Iterar sobre un diccionario| ```python for clave, valor in {'a': 1, 'b': 2}.items(): print(clave, valor) ```    |\n",
    "| Iterar sobre una matriz    | ```python for fila in [[1, 2], [3, 4]]: for elem in fila: print(elem) ```          |\n"
   ]
  },
  {
   "cell_type": "code",
   "execution_count": 2,
   "metadata": {},
   "outputs": [
    {
     "name": "stdout",
     "output_type": "stream",
     "text": [
      "1\n",
      "2\n",
      "3\n",
      "4\n",
      "5\n",
      "6\n",
      "7\n"
     ]
    }
   ],
   "source": [
    "# Proceso manual\n",
    "print(1)\n",
    "print(2)\n",
    "print(3)\n",
    "print(4)\n",
    "print(5)\n",
    "print(6)\n",
    "print(7)\n"
   ]
  },
  {
   "cell_type": "code",
   "execution_count": 3,
   "metadata": {},
   "outputs": [],
   "source": [
    "# Loop -> ejecutar varias veces una linea de codigo o instrucción.\n",
    "# For se utiliza cuando sabemos el numero de iteraciones que vamos a realizar"
   ]
  }
 ],
 "metadata": {
  "kernelspec": {
   "display_name": "Python 3",
   "language": "python",
   "name": "python3"
  },
  "language_info": {
   "codemirror_mode": {
    "name": "ipython",
    "version": 3
   },
   "file_extension": ".py",
   "mimetype": "text/x-python",
   "name": "python",
   "nbconvert_exporter": "python",
   "pygments_lexer": "ipython3",
   "version": "3.11.5"
  }
 },
 "nbformat": 4,
 "nbformat_minor": 2
}
